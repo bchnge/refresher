{
 "cells": [
  {
   "cell_type": "markdown",
   "id": "bca66f5f-090e-454a-bfed-a4e234db0ce8",
   "metadata": {},
   "source": [
    "- Bayes optimal classifier\n",
    "- Bootstrap aggregating (bagging)\n",
    "    - Each model is built using a distinct random subsample from the training set (thus bootstrapping)\n",
    "    - Each trained model produces a vote.\n",
    "- Boosting\n",
    "    - Sequential learning. Observations from the previous round with larger errors are given larger weights in the subsequent rounds.\n",
    "    - Results are combined in the form of voting\n",
    "- Bayesian model averaging\n",
    "    - Results are a weighted average of multiple models, where the weights of each model are determined using a bayesian prior (often implied by BIC or AIC. models which reduce entropy get larger weights?)\n",
    "- Bayesian model combination\n",
    "    - instead of sampling from models, the prior is a dirichlet distribution (uniform) of model weights. this is more robust than BMA where single models can easily dominate.\n",
    "- Bucket of models\n",
    "    - Choose the single model that produces the best average score..\n",
    "    - for each model in bucket:\n",
    "        - for each cv in cv:\n",
    "            - test/train split in cv\n",
    "            - train, test. return validation score\n",
    "- Stacking\n",
    "    - build a second model which uses the predictions of the first stage models as input.\n",
    "  "
   ]
  },
  {
   "cell_type": "code",
   "execution_count": null,
   "id": "94498a1e-6ab5-4635-a7e8-1a6e0121fc4f",
   "metadata": {},
   "outputs": [],
   "source": []
  }
 ],
 "metadata": {
  "kernelspec": {
   "display_name": "Python 3",
   "language": "python",
   "name": "python3"
  },
  "language_info": {
   "codemirror_mode": {
    "name": "ipython",
    "version": 3
   },
   "file_extension": ".py",
   "mimetype": "text/x-python",
   "name": "python",
   "nbconvert_exporter": "python",
   "pygments_lexer": "ipython3",
   "version": "3.8.10"
  }
 },
 "nbformat": 4,
 "nbformat_minor": 5
}
