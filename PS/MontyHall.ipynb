{
 "cells": [
  {
   "cell_type": "code",
   "execution_count": 214,
   "id": "3bdc8dd5-0998-4c2d-8b7c-cc3bd4f86d69",
   "metadata": {},
   "outputs": [],
   "source": [
    "from random import randint\n",
    "\n",
    "class MontyPython:\n",
    "    def __init__(self, num_doors:int = 3):\n",
    "        self.doors = [i for i in range(1, num_doors + 1)]\n",
    "        self.prize = randint(1,num_doors)\n",
    "        self.choice = randint(1, num_doors)\n",
    "    \n",
    "    def eliminate(self):\n",
    "        i = randint(0, len(self.doors)-1)\n",
    "        \n",
    "        # This is the key filter that we don't intuitively think about. The game show host MUST pick a door that is NEITHER your selection NOR the correct door.\n",
    "        # Therefore, the ELIMINATION of a door is NOT a UNIFORMLY RANDOM selection. Instead, it is a FILTER.\n",
    "        while self.doors[i] == self.prize or self.doors[i] == self.choice:\n",
    "            # Keep generating a different door until its not the current choice and not the prize\n",
    "            i = randint(0, len(self.doors) - 1)\n",
    "        self.doors.pop(i)\n",
    "            \n",
    "    def play(self, switch = True):\n",
    "        self.eliminate()\n",
    "        if switch == True:\n",
    "            remaining_doors = [x for x in self.doors if x != self.choice]\n",
    "            self.choice = remaining_doors[randint(0, len(remaining_doors)-1)]\n",
    "        if self.choice == self.prize:\n",
    "            return 1\n",
    "        else:\n",
    "            return 0"
   ]
  },
  {
   "cell_type": "code",
   "execution_count": 228,
   "id": "56f8363c-cd33-4545-8310-cc8fa7911045",
   "metadata": {},
   "outputs": [],
   "source": [
    "results = []\n",
    "for i in range(1000):\n",
    "    game = MontyPython(4)\n",
    "    results.append(game.play(True))"
   ]
  },
  {
   "cell_type": "code",
   "execution_count": 229,
   "id": "082b2c33-d509-4f36-a0ca-f5c9f539d99e",
   "metadata": {},
   "outputs": [
    {
     "data": {
      "text/plain": [
       "0.389"
      ]
     },
     "execution_count": 229,
     "metadata": {},
     "output_type": "execute_result"
    }
   ],
   "source": [
    "sum(results)/len(results)"
   ]
  },
  {
   "cell_type": "code",
   "execution_count": 166,
   "id": "972d20c3-59a7-4d78-b77d-b50a7ccb5da7",
   "metadata": {},
   "outputs": [
    {
     "data": {
      "text/plain": [
       "<__main__.MontyPython at 0x7f6a4bb9fca0>"
      ]
     },
     "execution_count": 166,
     "metadata": {},
     "output_type": "execute_result"
    }
   ],
   "source": [
    "game"
   ]
  },
  {
   "cell_type": "code",
   "execution_count": null,
   "id": "c2be5cc9-ffec-44d2-9375-f82251171bdc",
   "metadata": {},
   "outputs": [],
   "source": []
  },
  {
   "cell_type": "code",
   "execution_count": null,
   "id": "c718f0da-25fd-457c-abbd-3d84b47a5580",
   "metadata": {},
   "outputs": [],
   "source": []
  }
 ],
 "metadata": {
  "kernelspec": {
   "display_name": "Python 3",
   "language": "python",
   "name": "python3"
  },
  "language_info": {
   "codemirror_mode": {
    "name": "ipython",
    "version": 3
   },
   "file_extension": ".py",
   "mimetype": "text/x-python",
   "name": "python",
   "nbconvert_exporter": "python",
   "pygments_lexer": "ipython3",
   "version": "3.8.10"
  }
 },
 "nbformat": 4,
 "nbformat_minor": 5
}
