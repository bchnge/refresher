{
 "cells": [
  {
   "cell_type": "markdown",
   "id": "5dd4d5bd-8aef-493b-b125-fecc890cf587",
   "metadata": {},
   "source": [
    "# Given a sorted array, find an element x (or the closest thing to it)"
   ]
  },
  {
   "cell_type": "code",
   "execution_count": 1,
   "id": "3d9722db-9b32-45c3-8566-ef5206e3f3c3",
   "metadata": {},
   "outputs": [],
   "source": [
    "from random import randint"
   ]
  },
  {
   "cell_type": "code",
   "execution_count": 8,
   "id": "0cdc1184-8901-4eb3-a297-fb59872079dc",
   "metadata": {},
   "outputs": [],
   "source": [
    "array = sorted(randint(1,100000) for i in range(1000))"
   ]
  },
  {
   "cell_type": "code",
   "execution_count": 63,
   "id": "55e8c44c-cda5-4773-a8a8-451e38a8b44e",
   "metadata": {},
   "outputs": [],
   "source": [
    "# intuitive approach - recursive\n",
    "def binarySearch(array:[int], x:int, lo:int = 0, hi:int = None):\n",
    "    if hi == None:\n",
    "        hi = len(array)\n",
    "    \n",
    "    mid = (hi + lo) // 2\n",
    "    \n",
    "    if lo > hi:\n",
    "        return -1\n",
    "    \n",
    "    if array[mid] == x:\n",
    "        return mid\n",
    "    \n",
    "    if x < array[mid]:\n",
    "        return binarySearch(array, x, lo, mid -1 )\n",
    "    elif x > array[mid]:\n",
    "        return binarySearch(array, x, mid + 1, hi)\n",
    "    "
   ]
  },
  {
   "cell_type": "code",
   "execution_count": 61,
   "id": "9be933b4-976b-44c5-be83-f322eccff829",
   "metadata": {},
   "outputs": [
    {
     "name": "stdout",
     "output_type": "stream",
     "text": [
      "CPU times: user 0 ns, sys: 0 ns, total: 0 ns\n",
      "Wall time: 8.82 µs\n"
     ]
    },
    {
     "data": {
      "text/plain": [
       "19"
      ]
     },
     "execution_count": 61,
     "metadata": {},
     "output_type": "execute_result"
    }
   ],
   "source": [
    "%%time\n",
    "binarySearch(array, 2300)"
   ]
  },
  {
   "cell_type": "code",
   "execution_count": 62,
   "id": "a091e4a0-08c0-4b30-ad38-dad9feac9eb0",
   "metadata": {},
   "outputs": [
    {
     "name": "stdout",
     "output_type": "stream",
     "text": [
      "CPU times: user 0 ns, sys: 0 ns, total: 0 ns\n",
      "Wall time: 4.77 µs\n"
     ]
    },
    {
     "data": {
      "text/plain": [
       "19"
      ]
     },
     "execution_count": 62,
     "metadata": {},
     "output_type": "execute_result"
    }
   ],
   "source": [
    "%%time\n",
    "array.index(2300)"
   ]
  },
  {
   "cell_type": "code",
   "execution_count": 64,
   "id": "870d9638-3213-4cab-b5ef-42bb7759bdb8",
   "metadata": {},
   "outputs": [],
   "source": [
    "# alternative appraoch - iterative"
   ]
  },
  {
   "cell_type": "code",
   "execution_count": 65,
   "id": "549ba092-ddad-46da-9d54-c872e2e1e81a",
   "metadata": {},
   "outputs": [],
   "source": [
    "import bisect"
   ]
  },
  {
   "cell_type": "code",
   "execution_count": 77,
   "id": "5f3da739-faef-4f04-9733-3e5d0c5365a2",
   "metadata": {},
   "outputs": [
    {
     "name": "stdout",
     "output_type": "stream",
     "text": [
      "CPU times: user 0 ns, sys: 0 ns, total: 0 ns\n",
      "Wall time: 6.2 µs\n"
     ]
    },
    {
     "data": {
      "text/plain": [
       "19"
      ]
     },
     "execution_count": 77,
     "metadata": {},
     "output_type": "execute_result"
    }
   ],
   "source": [
    "%%time\n",
    "bisect.bisect_left(array, 2300)"
   ]
  },
  {
   "cell_type": "code",
   "execution_count": 78,
   "id": "41b87d6f-ff1a-497a-bc00-57456f008d95",
   "metadata": {},
   "outputs": [],
   "source": [
    "# what about using a binary search tree?\n",
    "# to keep things simple, we'll just aim for a regular BST that may not be balanced.\n",
    "# randomize the array to avoid the worst case scenario (sorted order BST)"
   ]
  },
  {
   "cell_type": "code",
   "execution_count": 189,
   "id": "fc51f4ce-a6ae-45dd-85bf-c7719552e494",
   "metadata": {},
   "outputs": [],
   "source": [
    "class TreeNode:\n",
    "    def __init__(self, val:int):\n",
    "        self.val = val\n",
    "        self.left = None\n",
    "        self.right = None\n",
    "        self.count = 1\n",
    "        \n",
    "    def insert(self, val):\n",
    "        root = self\n",
    "        # Terminating conditions:\n",
    "        if root == None or root.val == None:\n",
    "            root = TreeNode(val)\n",
    "        \n",
    "        if root.val == val:\n",
    "            root.count +=1\n",
    "\n",
    "        # Recursive calls to find the appropriate nodes to grow\n",
    "        if val < root.val:\n",
    "            if root.left:\n",
    "                # Go Left.\n",
    "                root.left.insert(val)\n",
    "            else:\n",
    "                #Store it\n",
    "                root.left = TreeNode(val)\n",
    "            \n",
    "        if val > root.val:\n",
    "            if root.right:\n",
    "                # Go right.\n",
    "                root.right.insert(val)\n",
    "            else:\n",
    "                # Store it\n",
    "                root.right = TreeNode(val)\n",
    "            \n",
    "    def inorder(self):\n",
    "        root = self\n",
    "        if root.left:\n",
    "            root.left.inorder()\n",
    "            \n",
    "        print(root.val)\n",
    "        \n",
    "        if root.right:\n",
    "            root.right.inorder()\n",
    "            \n",
    "    def search(self, x):\n",
    "        root = self\n",
    "        # Terminating criteria\n",
    "        if root == None:\n",
    "            return -1        \n",
    "        if root.val == x:\n",
    "            return 1\n",
    "        \n",
    "        if root.left == None and root.right==None:\n",
    "            return -1\n",
    "        \n",
    "        # Recursive calls\n",
    "        if x < root.val:\n",
    "            if root.left:\n",
    "                return root.left.search(x)\n",
    "            else:\n",
    "                return -1\n",
    "        if x > root.val:\n",
    "            if root.right:\n",
    "                return root.right.search(x)\n",
    "            else:\n",
    "                return -1\n",
    "        "
   ]
  },
  {
   "cell_type": "code",
   "execution_count": 221,
   "id": "8e733b9b-2112-4e12-a09f-63b1e4df26d6",
   "metadata": {},
   "outputs": [],
   "source": [
    "random_array = [randint(-1000000,10000000) for i in range(1000000)]"
   ]
  },
  {
   "cell_type": "code",
   "execution_count": 226,
   "id": "61f957cb-22e8-4d31-b15a-8aa96f325ec4",
   "metadata": {},
   "outputs": [],
   "source": [
    "\n",
    "bst = TreeNode(None)"
   ]
  },
  {
   "cell_type": "code",
   "execution_count": 223,
   "id": "a88a116c-8096-4bdf-b618-f96547fdc54e",
   "metadata": {},
   "outputs": [],
   "source": [
    "# Grow the BST\n",
    "for x in random_array:\n",
    "    bst.insert(x)"
   ]
  },
  {
   "cell_type": "code",
   "execution_count": 227,
   "id": "09037755-a377-4df9-a532-a305f557aa88",
   "metadata": {},
   "outputs": [
    {
     "name": "stdout",
     "output_type": "stream",
     "text": [
      "CPU times: user 0 ns, sys: 0 ns, total: 0 ns\n",
      "Wall time: 7.39 µs\n"
     ]
    },
    {
     "data": {
      "text/plain": [
       "-1"
      ]
     },
     "execution_count": 227,
     "metadata": {},
     "output_type": "execute_result"
    }
   ],
   "source": [
    "%%time\n",
    "bst.search(-92)"
   ]
  },
  {
   "cell_type": "code",
   "execution_count": 230,
   "id": "98bc8cc3-483e-437e-84bb-4d450ebc0e44",
   "metadata": {},
   "outputs": [],
   "source": [
    "import math"
   ]
  },
  {
   "cell_type": "code",
   "execution_count": 228,
   "id": "6136d0f3-eacd-44d9-b193-d1854fcd0f0d",
   "metadata": {},
   "outputs": [
    {
     "name": "stdout",
     "output_type": "stream",
     "text": [
      "CPU times: user 15.6 ms, sys: 0 ns, total: 15.6 ms\n",
      "Wall time: 6.47 ms\n"
     ]
    },
    {
     "data": {
      "text/plain": [
       "False"
      ]
     },
     "execution_count": 228,
     "metadata": {},
     "output_type": "execute_result"
    }
   ],
   "source": [
    "%%time\n",
    "-92 in random_array"
   ]
  },
  {
   "cell_type": "code",
   "execution_count": 198,
   "id": "26dbe932-de20-45f6-983e-570781443ec0",
   "metadata": {},
   "outputs": [],
   "source": [
    "def generate_random_array(n = 100, l = -1000, h = 1000):\n",
    "    return [randint(l, h) for i in range(n)]"
   ]
  }
 ],
 "metadata": {
  "kernelspec": {
   "display_name": "Python 3",
   "language": "python",
   "name": "python3"
  },
  "language_info": {
   "codemirror_mode": {
    "name": "ipython",
    "version": 3
   },
   "file_extension": ".py",
   "mimetype": "text/x-python",
   "name": "python",
   "nbconvert_exporter": "python",
   "pygments_lexer": "ipython3",
   "version": "3.8.10"
  }
 },
 "nbformat": 4,
 "nbformat_minor": 5
}
