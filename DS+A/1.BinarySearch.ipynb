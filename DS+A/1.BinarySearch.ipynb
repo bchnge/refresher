{
 "cells": [
  {
   "cell_type": "markdown",
   "id": "5dd4d5bd-8aef-493b-b125-fecc890cf587",
   "metadata": {},
   "source": [
    "# Given a sorted array, find an element x (or the closest thing to i"
   ]
  }
 ],
 "metadata": {
  "kernelspec": {
   "display_name": "Python 3",
   "language": "python",
   "name": "python3"
  },
  "language_info": {
   "codemirror_mode": {
    "name": "ipython",
    "version": 3
   },
   "file_extension": ".py",
   "mimetype": "text/x-python",
   "name": "python",
   "nbconvert_exporter": "python",
   "pygments_lexer": "ipython3",
   "version": "3.8.10"
  }
 },
 "nbformat": 4,
 "nbformat_minor": 5
}
