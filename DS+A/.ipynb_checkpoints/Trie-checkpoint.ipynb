{
 "cells": [
  {
   "cell_type": "markdown",
   "id": "a1b33481-da32-4c77-9778-725bb7506dbe",
   "metadata": {},
   "source": [
    "# Trie\n",
    "## Use a binary tree to store characters. Can be used to quickly search for a word in the trie.\n",
    "## Practical application: Autocomplete"
   ]
  },
  {
   "cell_type": "code",
   "execution_count": 11,
   "id": "427f446b-6550-495a-bd93-df2152afaeb3",
   "metadata": {},
   "outputs": [],
   "source": [
    "class Node:\n",
    "    # We'll use a linked list to store siblings\n",
    "    def __init__(self, val:str):\n",
    "        self.val = val\n",
    "        self.next = None\n",
    "        \n",
    "    def push(self, val:str) -> None:\n",
    "        head = self\n",
    "        while head.next != None:\n",
    "            head = head.next\n",
    "        head.next = Node(val)\n",
    "                \n",
    "    def search(self, val:str):\n",
    "        head = self\n",
    "        while head:\n",
    "            if head.val == val:\n",
    "                return head\n",
    "            else:\n",
    "                head = head.next\n",
    "        return None\n",
    "            \n",
    "        \n"
   ]
  },
  {
   "cell_type": "code",
   "execution_count": 117,
   "id": "fda8c605-1836-4704-b2a0-60342635028a",
   "metadata": {},
   "outputs": [],
   "source": [
    "# class Node:\n",
    "#     # We'll use a linked list to store siblings\n",
    "#     def __init__(self, val:str):\n",
    "#         self.item = TrieNode(val)\n",
    "#         self.next = None\n",
    "        \n",
    "#     def push(self, val:str) -> None:\n",
    "#         head = self\n",
    "#         while head.next != None:\n",
    "#             head = head.next\n",
    "#         head.next = Node(val)\n",
    "                \n",
    "#     def search(self, val:str):\n",
    "#         head = self\n",
    "#         while head:\n",
    "#             if head.val == val:\n",
    "#                 return head\n",
    "#             else:\n",
    "#                 head = head.next\n",
    "#         return None\n",
    "            \n",
    "\n",
    "class TrieNode:\n",
    "    def __init__(self, val:str) -> None:\n",
    "        self.val = val\n",
    "        self.children = {} # Dictionary of TrieNodes\n",
    "        self.is_word = False\n",
    "        \n",
    "    def insert(self, word:str) -> None:\n",
    "        head = self\n",
    "        for w in word:\n",
    "            children = head.children\n",
    "            if w not in children:\n",
    "                print('Adding ' + w)\n",
    "                head.children[w] = TrieNode(w)\n",
    "            head = children[w]\n",
    "        # mark word as being complete\n",
    "        head.is_word = True\n",
    "            \n",
    "    def find_word(self, word:str) -> bool:\n",
    "        head = self\n",
    "        for w in word:\n",
    "            if w in head.children:\n",
    "                head = head.children[w]\n",
    "            else:\n",
    "                print('Not even close.')\n",
    "                return False\n",
    "        if head.is_word == False:\n",
    "            print('Exists in the trie, but not marked as a complete word')\n",
    "        return head.is_word\n",
    "    \n",
    "    \n",
    "    def dfs(self, node, prefix):\n",
    "        print(node.val)\n",
    "        # recursively retrieve all values inorder\n",
    "        if len(node.children) == 0 and node.is_word:\n",
    "            return [prefix + node.val]\n",
    "        if node:\n",
    "            result = []\n",
    "            if node.is_word:\n",
    "                result.extend([prefix + node.val])\n",
    "            for child in node.children:\n",
    "                result.extend(self.dfs(node.children[child], prefix + node.val))\n",
    "            return result\n",
    "                \n",
    "            \n",
    "    \n",
    "    def autocomplete(self, stub:str) -> [str]:\n",
    "        '''\n",
    "        Given a stub, return a list of all potential autocompleted words (must be complete)\n",
    "        '''\n",
    "        \n",
    "        head = self\n",
    "        for w in stub:\n",
    "            if w in head.children:\n",
    "                head = head.children[w]\n",
    "            else:\n",
    "                print('stub does not exist.')\n",
    "                return None\n",
    "        \n",
    "        solutions = self.dfs(head, stub[:-1])\n",
    "        # Now retrieve all descendant nodes, with the stub as a prefix. We'll do this using bfs\n",
    "    \n",
    "        return solutions\n",
    "        \n",
    "        \n",
    "        "
   ]
  },
  {
   "cell_type": "code",
   "execution_count": 118,
   "id": "f1184be9-1b2c-43df-88bb-c2cc27acf4a0",
   "metadata": {},
   "outputs": [],
   "source": [
    "t = TrieNode(None)"
   ]
  },
  {
   "cell_type": "code",
   "execution_count": 119,
   "id": "25cd6ad9-a657-4813-ae9a-479cfd2479ad",
   "metadata": {},
   "outputs": [
    {
     "name": "stdout",
     "output_type": "stream",
     "text": [
      "Adding b\n",
      "Adding o\n",
      "Adding o\n",
      "Adding m\n"
     ]
    }
   ],
   "source": [
    "t.insert('boom')"
   ]
  },
  {
   "cell_type": "code",
   "execution_count": 120,
   "id": "56fbd152-52be-44d8-b21e-8db810faeda1",
   "metadata": {},
   "outputs": [
    {
     "name": "stdout",
     "output_type": "stream",
     "text": [
      "Adding e\n",
      "Adding r\n"
     ]
    }
   ],
   "source": [
    "t.insert('boomer')"
   ]
  },
  {
   "cell_type": "code",
   "execution_count": 124,
   "id": "1a8c5cd6-b41e-4611-bacf-af708c847ad5",
   "metadata": {},
   "outputs": [
    {
     "name": "stdout",
     "output_type": "stream",
     "text": [
      "Adding a\n",
      "Adding s\n",
      "Adding t\n"
     ]
    }
   ],
   "source": [
    "t.insert('boast')"
   ]
  },
  {
   "cell_type": "code",
   "execution_count": 121,
   "id": "83d91804-1472-4e93-b647-76d47bb6c31e",
   "metadata": {},
   "outputs": [
    {
     "data": {
      "text/plain": [
       "True"
      ]
     },
     "execution_count": 121,
     "metadata": {},
     "output_type": "execute_result"
    }
   ],
   "source": [
    "t.find_word('boomer')"
   ]
  },
  {
   "cell_type": "code",
   "execution_count": 128,
   "id": "390a83f7-a7d6-42e8-9c39-f4c6ee7749a0",
   "metadata": {},
   "outputs": [
    {
     "name": "stdout",
     "output_type": "stream",
     "text": [
      "t\n"
     ]
    },
    {
     "data": {
      "text/plain": [
       "['boast']"
      ]
     },
     "execution_count": 128,
     "metadata": {},
     "output_type": "execute_result"
    }
   ],
   "source": [
    "t.autocomplete('boast')"
   ]
  }
 ],
 "metadata": {
  "kernelspec": {
   "display_name": "Python 3",
   "language": "python",
   "name": "python3"
  },
  "language_info": {
   "codemirror_mode": {
    "name": "ipython",
    "version": 3
   },
   "file_extension": ".py",
   "mimetype": "text/x-python",
   "name": "python",
   "nbconvert_exporter": "python",
   "pygments_lexer": "ipython3",
   "version": "3.8.10"
  }
 },
 "nbformat": 4,
 "nbformat_minor": 5
}
