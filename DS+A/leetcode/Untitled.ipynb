{
 "cells": [
  {
   "cell_type": "markdown",
   "id": "42b091fe-b97a-4e81-b30c-5e66323cdbce",
   "metadata": {},
   "source": [
    "https://leetcode.com/problems/special-array-with-x-elements-greater-than-or-equal-x/submissions/"
   ]
  },
  {
   "cell_type": "code",
   "execution_count": null,
   "id": "00eb2739-7f69-4cf6-8d40-f8ff80e29e90",
   "metadata": {},
   "outputs": [],
   "source": [
    "from collections import Counter\n",
    "class Solution:\n",
    "    def specialArray(self, nums: List[int]) -> int:\n",
    "        '''\n",
    "        Rephrase: an array is special if there is exists some number x such that there are only x numbers >= x\n",
    "        we do not believe the array to be sorted.\n",
    "        '''\n",
    "        \n",
    "        # we know that if such an x exists, it must be less than or equal to the length of the array\n",
    "        # if x = n, then we expect all elements to be greater than or equal to x\n",
    "        # if x = n - 1, then we expect ..., etc.\n",
    "        # so we can test values of x, starting from the full length of the array, and work our way down.\n",
    "        \n",
    "        # should we sort the list first?\n",
    "        # sorting the list first should help identify the elements that are greater than or equal to x more quickly.\n",
    "        # however, sorting itself will take O(n) time.\n",
    "        \n",
    "        # let's try sorting first.\n",
    "        \n",
    "#         nums.sort(reverse = True)\n",
    "        \n",
    "#         x = len(nums)\n",
    "        \n",
    "#         while x > 0:\n",
    "#             count = 0\n",
    "#             for y in nums:\n",
    "#                 if y >= x:\n",
    "#                     count+=1\n",
    "#                 if count > x:\n",
    "#                     break\n",
    "#                 if y < x:\n",
    "#                     break\n",
    "#             if count == x:\n",
    "#                 return x\n",
    "#             else:\n",
    "#                 x -=1\n",
    "#         return -1\n",
    "\n",
    "        # The above works. however, two loops is inefficient.\n",
    "        # What if we first created a counter of all values.\n",
    "        # And then start from the top of the counter to the bottom.\n",
    "        # counter[key] -> counts\n",
    "        counts = Counter(nums)\n",
    "        running_sum = 0\n",
    "        x = max(counts.keys())\n",
    "        while x > 0:\n",
    "            if x in counts:\n",
    "                running_sum += counts[x]\n",
    "            if running_sum == x:\n",
    "                return x\n",
    "            x -= 1\n",
    "        return -1\n",
    "    \n",
    "        # Very nice. much faster. However, takes up somewhat more space."
   ]
  }
 ],
 "metadata": {
  "kernelspec": {
   "display_name": "Python 3",
   "language": "python",
   "name": "python3"
  },
  "language_info": {
   "codemirror_mode": {
    "name": "ipython",
    "version": 3
   },
   "file_extension": ".py",
   "mimetype": "text/x-python",
   "name": "python",
   "nbconvert_exporter": "python",
   "pygments_lexer": "ipython3",
   "version": "3.8.10"
  }
 },
 "nbformat": 4,
 "nbformat_minor": 5
}
